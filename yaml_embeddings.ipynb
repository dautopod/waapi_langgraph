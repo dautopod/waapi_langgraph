{
 "cells": [
  {
   "cell_type": "code",
   "execution_count": 1,
   "metadata": {},
   "outputs": [
    {
     "name": "stdout",
     "output_type": "stream",
     "text": [
      "File cleaned successfully. Output saved to: WaapiSwaggerCleaned.json\n"
     ]
    }
   ],
   "source": [
    "from langchain_community.document_loaders import JSONLoader\n",
    "from langchain_community.vectorstores import Chroma\n",
    "from langchain_openai import OpenAIEmbeddings\n",
    "from langchain_text_splitters import RecursiveCharacterTextSplitter\n",
    "import re\n",
    "\n",
    "# Function to remove non-ASCII characters\n",
    "def remove_non_ascii(file_path, output_file):\n",
    "    try:\n",
    "        with open(file_path, 'r', encoding='utf-8') as file:\n",
    "            content = file.read()\n",
    "\n",
    "        # Remove all non-ASCII characters\n",
    "        cleaned_content = ''.join(char for char in content if ord(char) < 128)\n",
    "\n",
    "        with open(output_file, 'w', encoding='utf-8') as output:\n",
    "            output.write(cleaned_content)\n",
    "\n",
    "        print(f\"File cleaned successfully. Output saved to: {output_file}\")\n",
    "    except Exception as e:\n",
    "        print(f\"Error: {e}\")\n",
    "\n",
    "remove_non_ascii(\"WaapiSwagger.json\", \"WaapiSwaggerCleaned.json\")\n",
    "\n",
    "path_docs = JSONLoader(file_path=\"WaapiSwagger.json\",jq_schema='.paths[] | to_entries[]',text_content=False).load()\n",
    "#securitySchemes_docs = JSONLoader(file_path=\"WaapiSwagger.json\",jq_schema='.components.securitySchemes[]',text_content=False).load()\n",
    "#schema_docs = JSONLoader(file_path=\"WaapiSwagger.json\",jq_schema='.components.schemas[]',text_content=False).load()\n",
    "#docs=path_docs + securitySchemes_docs + schema_docs\n",
    "docs=path_docs"
   ]
  },
  {
   "cell_type": "code",
   "execution_count": 2,
   "metadata": {},
   "outputs": [],
   "source": [
    "# Add to vectorDB\n",
    "vectorstore = Chroma.from_documents(\n",
    "    documents=docs,\n",
    "    collection_name=\"WaapiSwagger3\",\n",
    "    embedding=OpenAIEmbeddings(),\n",
    ")"
   ]
  },
  {
   "cell_type": "code",
   "execution_count": 4,
   "metadata": {},
   "outputs": [
    {
     "data": {
      "text/plain": [
       "[Document(metadata={'seq_num': 73, 'source': 'D:\\\\code\\\\python\\\\langchain_tutorial\\\\WaapiSwagger.json'}, page_content='{\"key\": \"get\", \"value\": {\"operationId\": \"ContactsController_checkExists\", \"summary\": \"Check phone number is registered in WhatsApp.\", \"parameters\": [{\"name\": \"phone\", \"required\": true, \"in\": \"query\", \"description\": \"The phone number to check\", \"example\": \"1213213213\", \"schema\": {\"type\": \"string\"}}, {\"name\": \"session\", \"required\": true, \"in\": \"query\", \"schema\": {\"default\": \"default\", \"type\": \"string\"}}], \"responses\": {\"200\": {\"description\": \"\", \"content\": {\"application/json\": {\"schema\": {\"$ref\": \"#/components/schemas/WANumberExistResult\"}}}}}, \"tags\": [\"\\\\ud83d\\\\udc64 Contacts\"], \"security\": [{\"api_key\": []}]}}'),\n",
       " Document(metadata={'seq_num': 5, 'source': 'D:\\\\code\\\\python\\\\langchain_tutorial\\\\WaapiSwagger.json'}, page_content='{\"key\": \"post\", \"value\": {\"operationId\": \"AuthController_saveCaptcha\", \"summary\": \"Enter captcha code.\", \"parameters\": [{\"name\": \"session\", \"required\": true, \"in\": \"path\", \"schema\": {\"default\": \"default\"}, \"description\": \"Session name\"}], \"requestBody\": {\"required\": true, \"content\": {\"application/json\": {\"schema\": {\"$ref\": \"#/components/schemas/CaptchaBody\"}}}}, \"responses\": {\"201\": {\"description\": \"\"}}, \"tags\": [\"\\\\ud83d\\\\udd11 Auth\"], \"security\": [{\"api_key\": []}]}}'),\n",
       " Document(metadata={'seq_num': 81, 'source': 'D:\\\\code\\\\python\\\\langchain_tutorial\\\\WaapiSwagger.json'}, page_content='{\"key\": \"post\", \"value\": {\"operationId\": \"GroupsController_joinGroup\", \"summary\": \"Join group via code\", \"parameters\": [{\"name\": \"session\", \"required\": true, \"in\": \"path\", \"schema\": {\"default\": \"default\"}, \"description\": \"Session name\"}], \"requestBody\": {\"required\": true, \"content\": {\"application/json\": {\"schema\": {\"$ref\": \"#/components/schemas/JoinGroupRequest\"}}}}, \"responses\": {\"201\": {\"description\": \"\", \"content\": {\"application/json\": {\"schema\": {\"$ref\": \"#/components/schemas/JoinGroupResponse\"}}}}}, \"tags\": [\"\\\\ud83d\\\\udc65 Groups\"], \"security\": [{\"api_key\": []}]}}'),\n",
       " Document(metadata={'seq_num': 3, 'source': 'D:\\\\code\\\\python\\\\langchain_tutorial\\\\WaapiSwagger.json'}, page_content='{\"key\": \"post\", \"value\": {\"operationId\": \"AuthController_authorizeCode\", \"summary\": \"Send OTP authentication code.\", \"parameters\": [{\"name\": \"session\", \"required\": true, \"in\": \"path\", \"schema\": {\"default\": \"default\"}, \"description\": \"Session name\"}], \"requestBody\": {\"required\": true, \"content\": {\"application/json\": {\"schema\": {\"$ref\": \"#/components/schemas/OTPRequest\"}}}}, \"responses\": {\"201\": {\"description\": \"\"}}, \"tags\": [\"\\\\ud83d\\\\udd11 Auth\"], \"security\": [{\"api_key\": []}]}}'),\n",
       " Document(metadata={'seq_num': 2, 'source': 'D:\\\\code\\\\python\\\\langchain_tutorial\\\\WaapiSwagger.json'}, page_content='{\"key\": \"post\", \"value\": {\"operationId\": \"AuthController_requestCode\", \"summary\": \"Request authentication code.\", \"parameters\": [{\"name\": \"session\", \"required\": true, \"in\": \"path\", \"schema\": {\"default\": \"default\"}, \"description\": \"Session name\"}], \"requestBody\": {\"required\": true, \"content\": {\"application/json\": {\"schema\": {\"$ref\": \"#/components/schemas/RequestCodeRequest\"}}}}, \"responses\": {\"201\": {\"description\": \"\"}}, \"tags\": [\"\\\\ud83d\\\\udd11 Auth\"], \"security\": [{\"api_key\": []}]}}'),\n",
       " Document(metadata={'seq_num': 80, 'source': 'D:\\\\code\\\\python\\\\langchain_tutorial\\\\WaapiSwagger.json'}, page_content='{\"key\": \"get\", \"value\": {\"operationId\": \"GroupsController_joinInfoGroup\", \"summary\": \"Get info about the group before joining.\", \"parameters\": [{\"name\": \"session\", \"required\": true, \"in\": \"path\", \"schema\": {\"default\": \"default\"}, \"description\": \"Session name\"}, {\"name\": \"code\", \"required\": true, \"in\": \"query\", \"description\": \"Group code (123) or url (https://chat.whatsapp.com/123)\", \"example\": \"https://chat.whatsapp.com/1234567890abcdef\", \"schema\": {\"type\": \"string\"}}], \"responses\": {\"200\": {\"description\": \"\", \"content\": {\"application/json\": {\"schema\": {\"type\": \"object\"}}}}}, \"tags\": [\"\\\\ud83d\\\\udc65 Groups\"], \"security\": [{\"api_key\": []}]}}'),\n",
       " Document(metadata={'seq_num': 102, 'source': 'D:\\\\code\\\\python\\\\langchain_tutorial\\\\WaapiSwagger.json'}, page_content='{\"key\": \"post\", \"value\": {\"operationId\": \"PresenceController_subscribe\", \"summary\": \"Subscribe to presence events for the chat.\", \"parameters\": [{\"name\": \"session\", \"required\": true, \"in\": \"path\", \"schema\": {\"default\": \"default\"}, \"description\": \"Session name\"}, {\"name\": \"chatId\", \"required\": true, \"in\": \"path\", \"description\": \"Chat ID\", \"example\": \"123456789@c.us\", \"schema\": {\"type\": \"string\"}}], \"responses\": {\"201\": {\"description\": \"\"}}, \"tags\": [\"\\\\u2705 Presence\"], \"security\": [{\"api_key\": []}]}}'),\n",
       " Document(metadata={'seq_num': 14, 'source': 'D:\\\\code\\\\python\\\\langchain_tutorial\\\\WaapiSwagger.json'}, page_content='{\"key\": \"post\", \"value\": {\"operationId\": \"SessionsController_logout\", \"summary\": \"Logout from the session\", \"description\": \"Logout the session, restart a session if it was not STOPPED\", \"parameters\": [{\"name\": \"session\", \"required\": true, \"in\": \"path\", \"schema\": {\"default\": \"default\"}, \"description\": \"Session name\"}], \"responses\": {\"201\": {\"description\": \"\", \"content\": {\"application/json\": {\"schema\": {\"$ref\": \"#/components/schemas/SessionDTO\"}}}}}, \"tags\": [\"\\\\ud83d\\\\udda5\\\\ufe0f Sessions\"], \"security\": [{\"api_key\": []}]}}'),\n",
       " Document(metadata={'seq_num': 58, 'source': 'D:\\\\code\\\\python\\\\langchain_tutorial\\\\WaapiSwagger.json'}, page_content='{\"key\": \"post\", \"value\": {\"operationId\": \"ChannelsController_unmute\", \"summary\": \"Unmute the channel.\", \"parameters\": [{\"name\": \"session\", \"required\": true, \"in\": \"path\", \"schema\": {\"default\": \"default\"}, \"description\": \"Session name\"}, {\"name\": \"id\", \"required\": true, \"in\": \"path\", \"schema\": {\"default\": \"123123123@newsletter\"}, \"description\": \"WhatsApp Channel ID\"}], \"responses\": {\"201\": {\"description\": \"\"}}, \"tags\": [\"\\\\ud83d\\\\udce2 Channels\"], \"security\": [{\"api_key\": []}]}}'),\n",
       " Document(metadata={'seq_num': 55, 'source': 'D:\\\\code\\\\python\\\\langchain_tutorial\\\\WaapiSwagger.json'}, page_content='{\"key\": \"post\", \"value\": {\"operationId\": \"ChannelsController_follow\", \"summary\": \"Follow the channel.\", \"parameters\": [{\"name\": \"session\", \"required\": true, \"in\": \"path\", \"schema\": {\"default\": \"default\"}, \"description\": \"Session name\"}, {\"name\": \"id\", \"required\": true, \"in\": \"path\", \"schema\": {\"default\": \"123123123@newsletter\"}, \"description\": \"WhatsApp Channel ID\"}], \"responses\": {\"201\": {\"description\": \"\"}}, \"tags\": [\"\\\\ud83d\\\\udce2 Channels\"], \"security\": [{\"api_key\": []}]}}')]"
      ]
     },
     "execution_count": 4,
     "metadata": {},
     "output_type": "execute_result"
    }
   ],
   "source": [
    "vectorstore.similarity_search(\"sign_up\", k=10)"
   ]
  },
  {
   "cell_type": "code",
   "execution_count": 65,
   "metadata": {},
   "outputs": [],
   "source": [
    "from langchain.tools.retriever import create_retriever_tool\n",
    "retriever = vectorstore.as_retriever()\n",
    "\n",
    "retriever_tool = create_retriever_tool(\n",
    "    retriever,\n",
    "    \"retrieve_api_docs\",\n",
    "    \"Search and return the APIs endpoints that should be called based on input query and their corresponding parameters or request body\",\n",
    ")\n",
    "\n",
    "tools = [retriever_tool]"
   ]
  },
  {
   "cell_type": "code",
   "execution_count": 66,
   "metadata": {},
   "outputs": [
    {
     "name": "stdout",
     "output_type": "stream",
     "text": [
      "content='' additional_kwargs={'tool_calls': [{'id': 'call_oikugPxRhYjhxUYWMUhWEgtL', 'function': {'arguments': '{\"query\":\"sign up\"}', 'name': 'retrieve_api_docs'}, 'type': 'function'}], 'refusal': None} response_metadata={'token_usage': {'completion_tokens': 17, 'prompt_tokens': 86, 'total_tokens': 103, 'completion_tokens_details': {'accepted_prediction_tokens': 0, 'audio_tokens': 0, 'reasoning_tokens': 0, 'rejected_prediction_tokens': 0}, 'prompt_tokens_details': {'audio_tokens': 0, 'cached_tokens': 0}}, 'model_name': 'gpt-3.5-turbo-0125', 'system_fingerprint': None, 'finish_reason': 'tool_calls', 'logprobs': None} id='run-32e048fd-9156-4175-880e-25dd33fc164b-0' tool_calls=[{'name': 'retrieve_api_docs', 'args': {'query': 'sign up'}, 'id': 'call_oikugPxRhYjhxUYWMUhWEgtL', 'type': 'tool_call'}] usage_metadata={'input_tokens': 86, 'output_tokens': 17, 'total_tokens': 103, 'input_token_details': {'audio': 0, 'cache_read': 0}, 'output_token_details': {'audio': 0, 'reasoning': 0}}\n"
     ]
    }
   ],
   "source": [
    "from dotenv import load_dotenv\n",
    "from langchain_openai import ChatOpenAI\n",
    "import os\n",
    "\n",
    "# Load environment variables\n",
    "load_dotenv()\n",
    "\n",
    "OPENAI_API_KEY = os.getenv(\"OPENAI_API_KEY\")\n",
    "llm = ChatOpenAI(model_name=\"gpt-3.5-turbo\", temperature=0.0, api_key=OPENAI_API_KEY)\n",
    "llm_with_tools = llm.bind_tools(tools)\n",
    "response=llm_with_tools.invoke(\"I want to sign up for this service. What APIs should I call?\")\n",
    "print(response)"
   ]
  },
  {
   "cell_type": "code",
   "execution_count": 67,
   "metadata": {},
   "outputs": [
    {
     "data": {
      "text/plain": [
       "{'messages': [ToolMessage(content='{\"key\": \"get\", \"value\": {\"operationId\": \"GroupsController_getParticipants\", \"summary\": \"Get participants\", \"parameters\": [{\"name\": \"session\", \"required\": true, \"in\": \"path\", \"schema\": {\"default\": \"default\"}, \"description\": \"Session name\"}, {\"name\": \"id\", \"required\": true, \"in\": \"path\", \"description\": \"Group ID\", \"example\": \"123123123@g.us\", \"schema\": {\"type\": \"string\"}}], \"responses\": {\"200\": {\"description\": \"\"}}, \"tags\": [\"\\\\ud83d\\\\udc65 Groups\"], \"security\": [{\"api_key\": []}]}}\\n\\n{\"key\": \"post\", \"value\": {\"operationId\": \"GroupsController_joinGroup\", \"summary\": \"Join group via code\", \"parameters\": [{\"name\": \"session\", \"required\": true, \"in\": \"path\", \"schema\": {\"default\": \"default\"}, \"description\": \"Session name\"}], \"requestBody\": {\"required\": true, \"content\": {\"application/json\": {\"schema\": {\"$ref\": \"#/components/schemas/JoinGroupRequest\"}}}}, \"responses\": {\"201\": {\"description\": \"\", \"content\": {\"application/json\": {\"schema\": {\"$ref\": \"#/components/schemas/JoinGroupResponse\"}}}}}, \"tags\": [\"\\\\ud83d\\\\udc65 Groups\"], \"security\": [{\"api_key\": []}]}}\\n\\n{\"key\": \"get\", \"value\": {\"operationId\": \"ContactsController_checkExists\", \"summary\": \"Check phone number is registered in WhatsApp.\", \"parameters\": [{\"name\": \"phone\", \"required\": true, \"in\": \"query\", \"description\": \"The phone number to check\", \"example\": \"1213213213\", \"schema\": {\"type\": \"string\"}}, {\"name\": \"session\", \"required\": true, \"in\": \"query\", \"schema\": {\"default\": \"default\", \"type\": \"string\"}}], \"responses\": {\"200\": {\"description\": \"\", \"content\": {\"application/json\": {\"schema\": {\"$ref\": \"#/components/schemas/WANumberExistResult\"}}}}}, \"tags\": [\"\\\\ud83d\\\\udc64 Contacts\"], \"security\": [{\"api_key\": []}]}}\\n\\n{\"key\": \"post\", \"value\": {\"operationId\": \"GroupsController_addParticipants\", \"summary\": \"Add participants\", \"parameters\": [{\"name\": \"session\", \"required\": true, \"in\": \"path\", \"schema\": {\"default\": \"default\"}, \"description\": \"Session name\"}, {\"name\": \"id\", \"required\": true, \"in\": \"path\", \"description\": \"Group ID\", \"example\": \"123123123@g.us\", \"schema\": {\"type\": \"string\"}}], \"requestBody\": {\"required\": true, \"content\": {\"application/json\": {\"schema\": {\"$ref\": \"#/components/schemas/ParticipantsRequest\"}}}}, \"responses\": {\"201\": {\"description\": \"\"}}, \"tags\": [\"\\\\ud83d\\\\udc65 Groups\"], \"security\": [{\"api_key\": []}]}}', name='retrieve_api_docs', tool_call_id='call_oikugPxRhYjhxUYWMUhWEgtL')]}"
      ]
     },
     "execution_count": 67,
     "metadata": {},
     "output_type": "execute_result"
    }
   ],
   "source": [
    "from langgraph.prebuilt import ToolNode\n",
    "\n",
    "tool_node = ToolNode(tools)\n",
    "\n",
    "tool_node.invoke({\"messages\": [response]})\n"
   ]
  }
 ],
 "metadata": {
  "kernelspec": {
   "display_name": ".venv",
   "language": "python",
   "name": "python3"
  },
  "language_info": {
   "codemirror_mode": {
    "name": "ipython",
    "version": 3
   },
   "file_extension": ".py",
   "mimetype": "text/x-python",
   "name": "python",
   "nbconvert_exporter": "python",
   "pygments_lexer": "ipython3",
   "version": "3.11.9"
  }
 },
 "nbformat": 4,
 "nbformat_minor": 2
}
